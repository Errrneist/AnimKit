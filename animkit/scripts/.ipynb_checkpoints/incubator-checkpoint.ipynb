{
 "cells": [
  {
   "cell_type": "markdown",
   "metadata": {},
   "source": [
    "# Zoetrope MP4 Encoder"
   ]
  },
  {
   "cell_type": "code",
   "execution_count": 26,
   "metadata": {},
   "outputs": [
    {
     "name": "stdout",
     "output_type": "stream",
     "text": [
      "[Zoetrope] Image sequence path: C:\\Users\\hongj\\Google Drive\\Dazzle\\seq_07_end_600\\fire_back\\seq_07_end_0600_fireback%03d.png\n",
      "[Zoetrope] Video target path: C:\\Users\\hongj\\Google Drive\\Dazzle\\seq_07_end_600\\fire_back\\seq_07_end_0600_fireback.avi\n"
     ]
    }
   ],
   "source": [
    "import subprocess\n",
    "\n",
    "def mp4_encoder(renders_dir, renders_prefix, frame_rate = 24 , frame_padding = 4, \n",
    "                  image_format = \"tif\", target_format = \"mp4\"):\n",
    "    \n",
    "    image_sequence_path = renders_dir + renders_prefix + \"%0\" + str(frame_padding) + \"d.\" + image_format\n",
    "    video_path = renders_dir + renders_prefix + \".\" + target_format\n",
    "    \n",
    "    print(\"[Zoetrope] Image sequence path: \" + image_sequence_path)\n",
    "    print(\"[Zoetrope] Video target path: \" + video_path)\n",
    "    \n",
    "    subprocess.call([\"ffmpeg\", \"-framerate\", str(frame_rate), \"-i\", \n",
    "                     image_sequence_path, video_path])\n",
    "    \n",
    "    print(\"[Zoetrope] Successfully encoded the image sequence to video of \" + target_format + \"format.\")\n",
    "\n",
    "    \n",
    "mp4_encoder(renders_dir = \"C:\\\\Users\\\\hongj\\\\Google Drive\\\\Dazzle\\\\seq_07_end_600\\\\fire_back\\\\\", \n",
    "              renders_prefix = \"seq_07_end_0600_fireback\", \n",
    "              frame_padding = 3, \n",
    "              image_format = \"png\", \n",
    "              target_format = \"avi\")"
   ]
  },
  {
   "cell_type": "code",
   "execution_count": null,
   "metadata": {},
   "outputs": [],
   "source": []
  }
 ],
 "metadata": {
  "kernelspec": {
   "display_name": "Python 3",
   "language": "python",
   "name": "python3"
  },
  "language_info": {
   "codemirror_mode": {
    "name": "ipython",
    "version": 3
   },
   "file_extension": ".py",
   "mimetype": "text/x-python",
   "name": "python",
   "nbconvert_exporter": "python",
   "pygments_lexer": "ipython3",
   "version": "3.7.6"
  }
 },
 "nbformat": 4,
 "nbformat_minor": 4
}
