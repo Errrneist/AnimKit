{
 "cells": [
  {
   "cell_type": "code",
   "execution_count": 1,
   "metadata": {},
   "outputs": [],
   "source": [
    "import os\n",
    "import shutil\n",
    "\n",
    "\n",
    "def get_numList(num):\n",
    "    '''\n",
    "    Returns a broken down list of numbers with appropriate \"-\"\n",
    "    '''\n",
    "    isNeg = False\n",
    "    \n",
    "    if (num < 0):\n",
    "        num = num * -1\n",
    "        isNeg = True\n",
    "        \n",
    "    res = list(map(str, [int(x) for x in str(num)]))\n",
    "    if(isNeg):\n",
    "        res.insert(0, \"-\")\n",
    "        \n",
    "    return(res)\n",
    "\n",
    "def padding_format(number, padding):\n",
    "    \"\"\"\n",
    "    Returns the correct padding of a number\n",
    "    \"\"\"\n",
    "    if number >= 0:\n",
    "        return (\"%0\" + str(padding) + \"d\") % number  # Positive + Zero Case\n",
    "    else:\n",
    "        number_list = get_numList(number)\n",
    "        if len(number_list) > padding:\n",
    "            raise Exception(\"number_list is larger than padding!!!\")\n",
    "        elif len(number_list) < padding:\n",
    "            need_zeroes = padding - len(number_list)\n",
    "            for x in range(0, need_zeroes):\n",
    "                number_list.insert(0, \"0\")\n",
    "        \n",
    "        return \"\".join(number_list)\n",
    "    \n",
    "def make_num_list (listStart, listEnd):\n",
    "    return [*range(listStart, listEnd + 1, 1)] \n"
   ]
  },
  {
   "cell_type": "code",
   "execution_count": 9,
   "metadata": {},
   "outputs": [
    {
     "name": "stdout",
     "output_type": "stream",
     "text": [
      "Processing the 0 image.\n",
      "Processing the 1 image.\n",
      "Processing the 2 image.\n",
      "Processing the 3 image.\n",
      "Processing the 4 image.\n",
      "Processing the 5 image.\n",
      "Processing the 6 image.\n",
      "Processing the 7 image.\n",
      "Processing the 8 image.\n",
      "Processing the 9 image.\n",
      "Processing the 10 image.\n",
      "Processing the 11 image.\n",
      "Processing the 12 image.\n",
      "Processing the 13 image.\n",
      "Processing the 14 image.\n",
      "Processing the 15 image.\n",
      "Processing the 16 image.\n",
      "Processing the 17 image.\n",
      "Processing the 18 image.\n",
      "Processing the 19 image.\n",
      "Processing the 20 image.\n",
      "Processing the 21 image.\n",
      "Processing the 22 image.\n",
      "Processing the 23 image.\n",
      "Processing the 24 image.\n",
      "Processing the 25 image.\n",
      "Processing the 26 image.\n",
      "Processing the 27 image.\n",
      "Processing the 28 image.\n",
      "Processing the 29 image.\n",
      "Processing the 30 image.\n",
      "Processing the 31 image.\n",
      "Processing the 32 image.\n",
      "Processing the 33 image.\n",
      "Processing the 34 image.\n",
      "Processing the 35 image.\n",
      "Processing the 36 image.\n",
      "Processing the 37 image.\n",
      "Processing the 38 image.\n",
      "Processing the 39 image.\n",
      "Processing the 40 image.\n",
      "Processing the 41 image.\n",
      "Processing the 42 image.\n",
      "Processing the 43 image.\n",
      "Processing the 44 image.\n",
      "Processing the 45 image.\n",
      "Processing the 46 image.\n",
      "Processing the 47 image.\n",
      "Processing the 48 image.\n",
      "Processing the 49 image.\n",
      "Processing the 50 image.\n",
      "Processing the 51 image.\n",
      "Processing the 52 image.\n",
      "Processing the 53 image.\n",
      "Processing the 54 image.\n",
      "Processing the 55 image.\n",
      "Processing the 56 image.\n",
      "Processing the 57 image.\n",
      "Processing the 58 image.\n",
      "Processing the 59 image.\n",
      "Processing the 60 image.\n",
      "Processing the 61 image.\n",
      "Processing the 62 image.\n",
      "Processing the 63 image.\n",
      "Processing the 64 image.\n",
      "Processing the 65 image.\n",
      "Processing the 66 image.\n",
      "Processing the 67 image.\n",
      "Processing the 68 image.\n",
      "Processing the 69 image.\n",
      "Processing the 70 image.\n",
      "Processing the 71 image.\n",
      "Processing the 72 image.\n",
      "Processing the 73 image.\n",
      "Processing the 74 image.\n",
      "Processing the 75 image.\n",
      "Processing the 76 image.\n",
      "Processing the 77 image.\n",
      "Processing the 78 image.\n",
      "Processing the 79 image.\n",
      "Processing the 80 image.\n",
      "Processing the 81 image.\n",
      "Processing the 82 image.\n",
      "Processing the 83 image.\n",
      "Processing the 84 image.\n",
      "Processing the 85 image.\n",
      "Processing the 86 image.\n",
      "Processing the 87 image.\n",
      "Processing the 88 image.\n",
      "Processing the 89 image.\n",
      "Processing the 90 image.\n",
      "Processing the 91 image.\n",
      "Processing the 92 image.\n",
      "Processing the 93 image.\n",
      "Processing the 94 image.\n",
      "Processing the 95 image.\n",
      "Processing the 96 image.\n",
      "Processing the 97 image.\n",
      "Processing the 98 image.\n",
      "Processing the 99 image.\n",
      "Processing the 100 image.\n",
      "Processing the 101 image.\n",
      "Processing the 102 image.\n",
      "Processing the 103 image.\n",
      "Processing the 104 image.\n",
      "Processing the 105 image.\n",
      "Processing the 106 image.\n",
      "Processing the 107 image.\n",
      "Processing the 108 image.\n",
      "Processing the 109 image.\n",
      "Processing the 110 image.\n",
      "Processing the 111 image.\n",
      "Processing the 112 image.\n",
      "Processing the 113 image.\n",
      "Processing the 114 image.\n",
      "Processing the 115 image.\n",
      "Processing the 116 image.\n",
      "Processing the 117 image.\n",
      "Processing the 118 image.\n",
      "Processing the 119 image.\n",
      "Processing the 120 image.\n",
      "Processing the 121 image.\n",
      "Processing the 122 image.\n",
      "Processing the 123 image.\n",
      "Processing the 124 image.\n",
      "Processing the 125 image.\n",
      "Processing the 126 image.\n",
      "Processing the 127 image.\n",
      "Processing the 128 image.\n",
      "Processing the 129 image.\n",
      "Processing the 130 image.\n",
      "Processing the 131 image.\n",
      "Processing the 132 image.\n",
      "Processing the 133 image.\n",
      "Processing the 134 image.\n",
      "Processing the 135 image.\n",
      "Processing the 136 image.\n",
      "Processing the 137 image.\n",
      "Processing the 138 image.\n",
      "Processing the 139 image.\n",
      "Processing the 140 image.\n",
      "Processing the 141 image.\n",
      "Processing the 142 image.\n",
      "Processing the 143 image.\n",
      "Processing the 144 image.\n",
      "Processing the 145 image.\n",
      "Processing the 146 image.\n",
      "Processing the 147 image.\n",
      "Processing the 148 image.\n",
      "Processing the 149 image.\n",
      "Processing the 150 image.\n",
      "Processing the 151 image.\n",
      "Processing the 152 image.\n",
      "Processing the 153 image.\n",
      "Processing the 154 image.\n",
      "Processing the 155 image.\n",
      "Processing the 156 image.\n",
      "Processing the 157 image.\n",
      "Processing the 158 image.\n",
      "Processing the 159 image.\n",
      "Processing the 160 image.\n",
      "Processing the 161 image.\n",
      "Processing the 162 image.\n",
      "Processing the 163 image.\n",
      "Processing the 164 image.\n",
      "Processing the 165 image.\n",
      "Processing the 166 image.\n",
      "Processing the 167 image.\n",
      "Processing the 168 image.\n",
      "Processing the 169 image.\n"
     ]
    }
   ],
   "source": [
    "# Define constants\n",
    "frameStart = -24\n",
    "frameEnd = 145\n",
    "padding = 4\n",
    "orig_format = \".tif\"\n",
    "seq_folder = \"\\\\\\\\csenetid\\\\cs\\\\unix\\\\projects\\\\instr\\\\capstone4\\\\production\\\\assets\\\\group_3\\\\shot\\\\seq_08_bonus_0100\\\\renders\\\\7_9_20_FHD\\\\masterLayer\\\\\"\n",
    "renders_prefix = \"seq_08_bonus_0100\"\n",
    "\n",
    "# Create temp folder\n",
    "temp_folder = seq_folder + \"\\\\temp\\\\\"\n",
    "if os.path.exists(temp_folder):\n",
    "    shutil.rmtree(temp_folder)\n",
    "os.makedirs(temp_folder)\n",
    "\n",
    "# Make sequence list\n",
    "sequence_list = make_num_list(frameStart, frameEnd)\n",
    "for index, value in enumerate(sequence_list):\n",
    "    sequence_list[index] = renders_prefix + \"_\" + padding_format(value, padding) + orig_format\n",
    "    \n",
    "# Copying everything into a new temp folder\n",
    "counter = 0\n",
    "for index, value in enumerate(sequence_list):\n",
    "    source = seq_folder + value\n",
    "    destination = temp_folder + str(counter) + orig_format\n",
    "    shutil.copyfile(source, destination) \n",
    "    print(\"Processing the \" + str(counter) + \" image.\") # Just to see progress\n",
    "    counter += 1\n",
    "    "
   ]
  },
  {
   "cell_type": "code",
   "execution_count": 8,
   "metadata": {},
   "outputs": [],
   "source": [
    "from os import listdir\n",
    "from os.path import isfile, join\n",
    "\n",
    "padding = 4\n",
    "file_path = \".\\\\test\\\\\"\n",
    "file_name_with_ext = [f for f in listdir(file_path) if isfile(join(file_path, f))]\n",
    "padding_list = []\n",
    "\n",
    "for file_name_ext in file_name_with_ext:\n",
    "    # Get file name.\n",
    "    (file_name, ext) = os.path.splitext(file_name_ext)\n",
    "    \n",
    "    # Get last padding amount of character from the back of the file name.\n",
    "    padding_str = file_name[-padding:]  \n",
    "\n",
    "    # Convert padding to int\n",
    "    padding_int = int(padding_str)\n",
    "\n",
    "    padding_list.append(padding_int)\n",
    "\n",
    "padding_min = min(padding_list)\n",
    "padding_max = max(padding_list)"
   ]
  },
  {
   "cell_type": "code",
   "execution_count": 12,
   "metadata": {
    "tags": []
   },
   "outputs": [
    {
     "output_type": "execute_result",
     "data": {
      "text/plain": "102"
     },
     "metadata": {},
     "execution_count": 12
    }
   ],
   "source": [
    "padding_min = min(padding_list)\n",
    "\n",
    "\n",
    "padding_max"
   ]
  },
  {
   "cell_type": "code",
   "execution_count": 13,
   "metadata": {},
   "outputs": [
    {
     "output_type": "execute_result",
     "data": {
      "text/plain": "0"
     },
     "metadata": {},
     "execution_count": 13
    }
   ],
   "source": [
    "padding_min"
   ]
  },
  {
   "cell_type": "code",
   "execution_count": 14,
   "metadata": {},
   "outputs": [
    {
     "output_type": "execute_result",
     "data": {
      "text/plain": "[-24,\n -23,\n -22,\n -21,\n -20,\n -19,\n -18,\n -17,\n -16,\n -15,\n -14,\n -13,\n -12,\n -11,\n -10,\n -9,\n -8,\n -7,\n -6,\n -5,\n -4,\n -3,\n -2,\n -1,\n 0,\n 1,\n 2,\n 3,\n 4,\n 5,\n 6,\n 7,\n 8,\n 9,\n 10,\n 11,\n 12,\n 13,\n 14,\n 15,\n 16,\n 17,\n 18,\n 19,\n 20,\n 21,\n 22,\n 23,\n 24]"
     },
     "metadata": {},
     "execution_count": 14
    }
   ],
   "source": [
    "listStart = -24\n",
    "listEnd = 24\n",
    "[*range(listStart, listEnd + 1, 1)] "
   ]
  },
  {
   "cell_type": "code",
   "execution_count": 15,
   "metadata": {},
   "outputs": [
    {
     "output_type": "execute_result",
     "data": {
      "text/plain": "-10"
     },
     "metadata": {},
     "execution_count": 15
    }
   ],
   "source": [
    "int(0-10)"
   ]
  },
  {
   "cell_type": "code",
   "execution_count": 18,
   "metadata": {},
   "outputs": [
    {
     "output_type": "execute_result",
     "data": {
      "text/plain": "-10"
     },
     "metadata": {},
     "execution_count": 18
    }
   ],
   "source": [
    "int(\"-10\")"
   ]
  },
  {
   "cell_type": "code",
   "execution_count": 21,
   "metadata": {},
   "outputs": [],
   "source": [
    "def take_off_zero(input_str):\n",
    "    \"\"\"\n",
    "    Takes off zero from the start of a string.\n",
    "    Example: \"0-10\" -> \"-10\"\n",
    "    \"\"\"\n",
    "    temp_str = input_str\n",
    "    while temp_str[0] == \"0\":\n",
    "        temp_str = temp_str[1:]\n",
    "\n",
    "    return temp_str"
   ]
  },
  {
   "cell_type": "code",
   "execution_count": 22,
   "metadata": {},
   "outputs": [
    {
     "output_type": "execute_result",
     "data": {
      "text/plain": "'-10'"
     },
     "metadata": {},
     "execution_count": 22
    }
   ],
   "source": [
    "take_off_zero(\"0-10\")"
   ]
  },
  {
   "cell_type": "code",
   "execution_count": 52,
   "metadata": {
    "tags": []
   },
   "outputs": [
    {
     "output_type": "stream",
     "name": "stdout",
     "text": "[Zoetrope] Video Encoder - Video exists at: C:/Users/hongj/Desktop/nutmeg_test/renders/defaultRenderLayer/nutmeg_demo.mp4 and got deleted successfully.\n"
    },
    {
     "output_type": "execute_result",
     "data": {
      "text/plain": "0"
     },
     "metadata": {},
     "execution_count": 52
    }
   ],
   "source": [
    "import subprocess\n",
    "image_sequence_path = \"C:/Users/hongj/Desktop/nutmeg_test/renders/defaultRenderLayer/nutmeg_demo_%04d.tif\"\n",
    "video_path = \"C:/Users/hongj/Desktop/nutmeg_test/renders/defaultRenderLayer/nutmeg_demo.mp4\"\n",
    "\n",
    "if os.path.exists(video_path): \n",
    "        os.remove(video_path)\n",
    "        if not os.path.exists(video_path):\n",
    "            print(\"[Zoetrope] Video Encoder - Video exists at: \" + video_path + \" and got deleted successfully.\")\n",
    "\n",
    "subprocess.call([\"ffmpeg\", \"-framerate\", \"24\", \"libx264\", \"-pix_fmt\", \"yuv420p\", \"-i\", image_sequence_path, video_path])"
   ]
  },
  {
   "cell_type": "code",
   "execution_count": 46,
   "metadata": {},
   "outputs": [],
   "source": [
    "def is_image(image_ext):\n",
    "    if image_ext in [\"jpg\", \"png\", \"tiff\", \"tif\", \"exr\"]:\n",
    "        return True\n",
    "    else:\n",
    "        return False"
   ]
  },
  {
   "cell_type": "code",
   "execution_count": 47,
   "metadata": {},
   "outputs": [
    {
     "output_type": "execute_result",
     "data": {
      "text/plain": "True"
     },
     "metadata": {},
     "execution_count": 47
    }
   ],
   "source": [
    "is_image(\"png\")"
   ]
  },
  {
   "cell_type": "code",
   "execution_count": null,
   "metadata": {},
   "outputs": [],
   "source": []
  }
 ],
 "metadata": {
  "kernelspec": {
   "display_name": "Python 3",
   "language": "python",
   "name": "python3"
  },
  "language_info": {
   "codemirror_mode": {
    "name": "ipython",
    "version": 3
   },
   "file_extension": ".py",
   "mimetype": "text/x-python",
   "name": "python",
   "nbconvert_exporter": "python",
   "pygments_lexer": "ipython3",
   "version": "3.7.6-final"
  }
 },
 "nbformat": 4,
 "nbformat_minor": 4
}